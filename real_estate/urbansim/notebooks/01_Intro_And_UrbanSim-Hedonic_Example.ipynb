{
 "cells": [
  {
   "cell_type": "markdown",
   "metadata": {},
   "source": [
    "# 1. UrbanSim 소개 및 기본 예제 (Basic Example - Residential Price Hedonic)"
   ]
  },
  {
   "cell_type": "markdown",
   "metadata": {},
   "source": [
    "* 싸이그래머 / DeepCity - 도시 데이터 분석 : UrbanSim\n",
    "* 김무성"
   ]
  },
  {
   "cell_type": "markdown",
   "metadata": {},
   "source": [
    "------------------------------"
   ]
  },
  {
   "cell_type": "markdown",
   "metadata": {},
   "source": [
    "# UrbanSim\n",
    "* [1] New version of UrbanSim, a platform for modeling metropolitan real estate markets - https://github.com/UDST/urbansim\n",
    "* Ref . \n",
    "    - [2] UrbanSim - Modeling Urban Development for Land Use, Transportation, and Environmen tal Planning - https://astro.temple.edu/~jmennis/Courses/GUS_0150/readings/Waddell02.pdf\n",
    "    - [3] Architecture for Modular Microsimulation of Real Estate Markets and Transportation - https://arxiv.org/abs/1807.01148\n",
    "* [4] An UrbanSim for San Francisco: an example implementation of the new framework - https://github.com/UDST/sanfran_urbansim\n",
    "\n",
    "# ActiveSim\n",
    "* [5] An Open Platform for Activity-Based Travel Modeling - https://github.com/ActivitySim/activitysim"
   ]
  },
  {
   "cell_type": "markdown",
   "metadata": {},
   "source": [
    "-------------------------"
   ]
  },
  {
   "cell_type": "markdown",
   "metadata": {},
   "source": [
    "# Basic Example - Residential Price Hedonic\n",
    "* https://udst.github.io/urbansim/examples.html#basic-example-residential-price-hedonic"
   ]
  },
  {
   "cell_type": "code",
   "execution_count": 33,
   "metadata": {
    "collapsed": false
   },
   "outputs": [
    {
     "name": "stdout",
     "output_type": "stream",
     "text": [
      "01_Intro_And_UrbanSim-Hedonic_Example.ipynb\r\n"
     ]
    }
   ],
   "source": [
    "%ls"
   ]
  },
  {
   "cell_type": "code",
   "execution_count": 34,
   "metadata": {
    "collapsed": true
   },
   "outputs": [],
   "source": [
    "%mkdir data"
   ]
  },
  {
   "cell_type": "code",
   "execution_count": 35,
   "metadata": {
    "collapsed": false
   },
   "outputs": [
    {
     "name": "stdout",
     "output_type": "stream",
     "text": [
      "01_Intro_And_UrbanSim-Hedonic_Example.ipynb  \u001b[0m\u001b[01;34mdata\u001b[0m/\r\n"
     ]
    }
   ],
   "source": [
    "%ls"
   ]
  },
  {
   "cell_type": "code",
   "execution_count": 5,
   "metadata": {
    "collapsed": true
   },
   "outputs": [],
   "source": [
    "%ls data"
   ]
  },
  {
   "cell_type": "code",
   "execution_count": 8,
   "metadata": {
    "collapsed": false
   },
   "outputs": [
    {
     "name": "stdout",
     "output_type": "stream",
     "text": [
      "\u001b[0m\u001b[01;34mnotebooks\u001b[0m/  \u001b[01;34msanfran_urbansim\u001b[0m/  \u001b[01;34murbansim\u001b[0m/\r\n"
     ]
    }
   ],
   "source": [
    "%ls ../"
   ]
  },
  {
   "cell_type": "code",
   "execution_count": 10,
   "metadata": {
    "collapsed": false
   },
   "outputs": [
    {
     "name": "stdout",
     "output_type": "stream",
     "text": [
      "assumptions.py  Estimation.ipynb       models.py         variables.py\r\n",
      "\u001b[0m\u001b[01;34mconfigs\u001b[0m/        Exploration.ipynb      README.md\r\n",
      "\u001b[01;34mdata\u001b[0m/           Hedonic Example.ipynb  Simulation.ipynb\r\n",
      "dataset.py      ipython.lnk            utils.py\r\n"
     ]
    }
   ],
   "source": [
    "%ls ../sanfran_urbansim/"
   ]
  },
  {
   "cell_type": "code",
   "execution_count": 11,
   "metadata": {
    "collapsed": false
   },
   "outputs": [
    {
     "name": "stdout",
     "output_type": "stream",
     "text": [
      "sanfran_public.h5  zones.json\r\n"
     ]
    }
   ],
   "source": [
    "%ls ../sanfran_urbansim/data/"
   ]
  },
  {
   "cell_type": "code",
   "execution_count": 12,
   "metadata": {
    "collapsed": true
   },
   "outputs": [],
   "source": [
    "%cp ../sanfran_urbansim/data/sanfran_public.h5 data/"
   ]
  },
  {
   "cell_type": "code",
   "execution_count": 13,
   "metadata": {
    "collapsed": false
   },
   "outputs": [
    {
     "name": "stdout",
     "output_type": "stream",
     "text": [
      "sanfran_public.h5\r\n"
     ]
    }
   ],
   "source": [
    "%ls data"
   ]
  },
  {
   "cell_type": "code",
   "execution_count": 25,
   "metadata": {
    "collapsed": false
   },
   "outputs": [],
   "source": [
    "%cp ../sanfran_urbansim/utils.py ."
   ]
  },
  {
   "cell_type": "code",
   "execution_count": 26,
   "metadata": {
    "collapsed": false
   },
   "outputs": [
    {
     "name": "stdout",
     "output_type": "stream",
     "text": [
      "01_Intro_And_UrbanSim-Hedonic_Example.ipynb  \u001b[0m\u001b[01;34mdata\u001b[0m/  utils.py\r\n"
     ]
    }
   ],
   "source": [
    "%ls"
   ]
  },
  {
   "cell_type": "markdown",
   "metadata": {},
   "source": [
    "--------------------"
   ]
  },
  {
   "cell_type": "code",
   "execution_count": 14,
   "metadata": {
    "collapsed": false,
    "deletable": true,
    "editable": true
   },
   "outputs": [],
   "source": [
    "import os\n",
    "import pandas as pd\n",
    "import numpy as np\n",
    "import orca\n",
    "from urbansim.models import RegressionModel\n",
    "from urbansim.utils import misc"
   ]
  },
  {
   "cell_type": "markdown",
   "metadata": {
    "deletable": true,
    "editable": true
   },
   "source": [
    "## Set the location of the HDFStore as an injectable called \"store\""
   ]
  },
  {
   "cell_type": "code",
   "execution_count": 15,
   "metadata": {
    "collapsed": false,
    "deletable": true,
    "editable": true
   },
   "outputs": [],
   "source": [
    "orca.add_injectable(\"store\", pd.HDFStore(os.path.join(misc.data_dir(), \"sanfran_public.h5\"), mode=\"r\"))"
   ]
  },
  {
   "cell_type": "markdown",
   "metadata": {
    "deletable": true,
    "editable": true
   },
   "source": [
    "## Specify table sources and broadcasts that will be used later"
   ]
  },
  {
   "cell_type": "code",
   "execution_count": 16,
   "metadata": {
    "collapsed": false,
    "deletable": true,
    "editable": true
   },
   "outputs": [],
   "source": [
    "@orca.table('buildings')\n",
    "def buildings(store):\n",
    "    df = store['buildings']\n",
    "    return df\n",
    "\n",
    "@orca.table('zones')\n",
    "def zones(store):\n",
    "    df = store['zones']\n",
    "    return df\n",
    "\n",
    "@orca.table('households')\n",
    "def households(store):\n",
    "    df = store['households']\n",
    "    return df\n",
    "\n",
    "@orca.table('parcels')\n",
    "def parcels(store):\n",
    "    df = store['parcels']\n",
    "    return df\n",
    "\n",
    "orca.broadcast('zones', 'buildings', cast_index=True, onto_on='zone_id')"
   ]
  },
  {
   "cell_type": "markdown",
   "metadata": {
    "deletable": true,
    "editable": true
   },
   "source": [
    "## Specify the computed columns"
   ]
  },
  {
   "cell_type": "code",
   "execution_count": 18,
   "metadata": {
    "collapsed": false,
    "deletable": true,
    "editable": true
   },
   "outputs": [],
   "source": [
    "@orca.column('households', 'income_quartile', cache=True)\n",
    "def income_quartile(households):\n",
    "    return pd.Series(pd.qcut(households.income, 4).labels,\n",
    "                     index=households.index)\n",
    "\n",
    "@orca.column('households', 'zone_id', cache=True)\n",
    "def zone_id(households, buildings):\n",
    "    return misc.reindex(buildings.zone_id, households.building_id)\n",
    "\n",
    "@orca.column('zones', 'ave_unit_sqft')\n",
    "def ave_unit_sqft(buildings, zones):\n",
    "    s = buildings.unit_sqft[buildings.general_type == \"Residential\"]\\\n",
    "        .groupby(buildings.zone_id).quantile().apply(np.log1p)\n",
    "    return s.reindex(zones.index).fillna(s.quantile())\n",
    "\n",
    "@orca.column('zones', 'ave_lot_sqft')\n",
    "def ave_lot_sqft(buildings, zones):\n",
    "    s = buildings.unit_lot_size.groupby(buildings.zone_id).quantile().apply(np.log1p)\n",
    "    return s.reindex(zones.index).fillna(s.quantile())\n",
    "\n",
    "@orca.column('zones', 'sum_residential_units')\n",
    "def sum_residential_units(buildings):\n",
    "    return buildings.residential_units.groupby(buildings.zone_id).sum().apply(np.log1p)\n",
    "\n",
    "@orca.column('zones', 'ave_income')\n",
    "def ave_income(households, zones):\n",
    "    s = households.income.groupby(households.zone_id).quantile().apply(np.log1p)\n",
    "    return s.reindex(zones.index).fillna(s.quantile())\n",
    "\n",
    "orca.add_injectable(\"building_type_map\", {\n",
    "    1: \"Residential\",\n",
    "    2: \"Residential\",\n",
    "    3: \"Residential\",\n",
    "    4: \"Office\",\n",
    "    5: \"Hotel\",\n",
    "    6: \"School\",\n",
    "    7: \"Industrial\",\n",
    "    8: \"Industrial\",\n",
    "    9: \"Industrial\",\n",
    "    10: \"Retail\",\n",
    "    11: \"Retail\",\n",
    "    12: \"Residential\",\n",
    "    13: \"Retail\",\n",
    "    14: \"Office\"\n",
    "})\n",
    "\n",
    "@orca.column('buildings', 'zone_id', cache=True)\n",
    "def zone_id(buildings, parcels):\n",
    "    return misc.reindex(parcels.zone_id, buildings.parcel_id)\n",
    "\n",
    "@orca.column('buildings', 'general_type', cache=True)\n",
    "def general_type(buildings, building_type_map):\n",
    "    return buildings.building_type_id.map(building_type_map)\n",
    "\n",
    "@orca.column('buildings', 'unit_sqft', cache=True)\n",
    "def unit_sqft(buildings):\n",
    "    return buildings.building_sqft / buildings.residential_units.replace(0, 1)\n",
    "\n",
    "@orca.column('buildings', 'unit_lot_size', cache=True)\n",
    "def unit_lot_size(buildings, parcels):\n",
    "    return misc.reindex(parcels.parcel_size, buildings.parcel_id) / \\\n",
    "        buildings.residential_units.replace(0, 1)\n",
    "    \n",
    "@orca.column('parcels', 'parcel_size', cache=True)\n",
    "def parcel_size(parcels):\n",
    "    return parcels.shape_area * 10.764"
   ]
  },
  {
   "cell_type": "markdown",
   "metadata": {
    "deletable": true,
    "editable": true
   },
   "source": [
    "## Configure the model"
   ]
  },
  {
   "cell_type": "code",
   "execution_count": 19,
   "metadata": {
    "collapsed": false,
    "deletable": true,
    "editable": true
   },
   "outputs": [],
   "source": [
    "rm = RegressionModel(\n",
    "    fit_filters=[\n",
    "        'unit_lot_size > 0',\n",
    "        'year_built > 1000',\n",
    "        'year_built < 2020',\n",
    "        'unit_sqft > 100',\n",
    "        'unit_sqft < 20000'\n",
    "    ],\n",
    "    predict_filters=[\n",
    "        \"general_type == 'Residential'\"\n",
    "    ],\n",
    "    model_expression='np.log1p(residential_sales_price) ~ I(year_built < 1940)'\n",
    "        '+ I(year_built > 2005) + np.log1p(unit_sqft) + np.log1p(unit_lot_size)'\n",
    "        '+ sum_residential_units + ave_lot_sqft + ave_unit_sqft + ave_income',\n",
    "    ytransform = np.exp\n",
    ")     "
   ]
  },
  {
   "cell_type": "markdown",
   "metadata": {
    "deletable": true,
    "editable": true
   },
   "source": [
    "## Get the data - merge buildings and zones  (notice UrbanSum does the merge based on the broadcast)"
   ]
  },
  {
   "cell_type": "code",
   "execution_count": 20,
   "metadata": {
    "collapsed": false,
    "deletable": true,
    "editable": true
   },
   "outputs": [],
   "source": [
    "merged_df = orca.merge_tables(target=\"buildings\", tables=[\"buildings\", \"zones\"], columns=rm.columns_used()) "
   ]
  },
  {
   "cell_type": "code",
   "execution_count": 21,
   "metadata": {
    "collapsed": false
   },
   "outputs": [
    {
     "data": {
      "text/html": [
       "<div>\n",
       "<style scoped>\n",
       "    .dataframe tbody tr th:only-of-type {\n",
       "        vertical-align: middle;\n",
       "    }\n",
       "\n",
       "    .dataframe tbody tr th {\n",
       "        vertical-align: top;\n",
       "    }\n",
       "\n",
       "    .dataframe thead th {\n",
       "        text-align: right;\n",
       "    }\n",
       "</style>\n",
       "<table border=\"1\" class=\"dataframe\">\n",
       "  <thead>\n",
       "    <tr style=\"text-align: right;\">\n",
       "      <th></th>\n",
       "      <th>year_built</th>\n",
       "      <th>residential_sales_price</th>\n",
       "      <th>unit_lot_size</th>\n",
       "      <th>general_type</th>\n",
       "      <th>zone_id</th>\n",
       "      <th>unit_sqft</th>\n",
       "      <th>ave_lot_sqft</th>\n",
       "      <th>ave_unit_sqft</th>\n",
       "      <th>sum_residential_units</th>\n",
       "      <th>ave_income</th>\n",
       "    </tr>\n",
       "    <tr>\n",
       "      <th>building_id</th>\n",
       "      <th></th>\n",
       "      <th></th>\n",
       "      <th></th>\n",
       "      <th></th>\n",
       "      <th></th>\n",
       "      <th></th>\n",
       "      <th></th>\n",
       "      <th></th>\n",
       "      <th></th>\n",
       "      <th></th>\n",
       "    </tr>\n",
       "  </thead>\n",
       "  <tbody>\n",
       "    <tr>\n",
       "      <th>66515</th>\n",
       "      <td>1900.0</td>\n",
       "      <td>568.475987</td>\n",
       "      <td>1263.125026</td>\n",
       "      <td>Residential</td>\n",
       "      <td>103.0</td>\n",
       "      <td>1585.000000</td>\n",
       "      <td>7.293847</td>\n",
       "      <td>7.153834</td>\n",
       "      <td>7.95156</td>\n",
       "      <td>11.156265</td>\n",
       "    </tr>\n",
       "    <tr>\n",
       "      <th>65547</th>\n",
       "      <td>1930.0</td>\n",
       "      <td>455.136612</td>\n",
       "      <td>5852.075522</td>\n",
       "      <td>Residential</td>\n",
       "      <td>103.0</td>\n",
       "      <td>3314.000000</td>\n",
       "      <td>7.293847</td>\n",
       "      <td>7.153834</td>\n",
       "      <td>7.95156</td>\n",
       "      <td>11.156265</td>\n",
       "    </tr>\n",
       "    <tr>\n",
       "      <th>66514</th>\n",
       "      <td>1906.0</td>\n",
       "      <td>544.091933</td>\n",
       "      <td>832.842163</td>\n",
       "      <td>Residential</td>\n",
       "      <td>103.0</td>\n",
       "      <td>1650.000000</td>\n",
       "      <td>7.293847</td>\n",
       "      <td>7.153834</td>\n",
       "      <td>7.95156</td>\n",
       "      <td>11.156265</td>\n",
       "    </tr>\n",
       "    <tr>\n",
       "      <th>66655</th>\n",
       "      <td>1900.0</td>\n",
       "      <td>694.135544</td>\n",
       "      <td>725.826460</td>\n",
       "      <td>Residential</td>\n",
       "      <td>103.0</td>\n",
       "      <td>941.500000</td>\n",
       "      <td>7.293847</td>\n",
       "      <td>7.153834</td>\n",
       "      <td>7.95156</td>\n",
       "      <td>11.156265</td>\n",
       "    </tr>\n",
       "    <tr>\n",
       "      <th>65727</th>\n",
       "      <td>1960.0</td>\n",
       "      <td>712.225493</td>\n",
       "      <td>474.725479</td>\n",
       "      <td>Residential</td>\n",
       "      <td>103.0</td>\n",
       "      <td>739.666687</td>\n",
       "      <td>7.293847</td>\n",
       "      <td>7.153834</td>\n",
       "      <td>7.95156</td>\n",
       "      <td>11.156265</td>\n",
       "    </tr>\n",
       "  </tbody>\n",
       "</table>\n",
       "</div>"
      ],
      "text/plain": [
       "             year_built  residential_sales_price  unit_lot_size general_type  \\\n",
       "building_id                                                                    \n",
       "66515            1900.0               568.475987    1263.125026  Residential   \n",
       "65547            1930.0               455.136612    5852.075522  Residential   \n",
       "66514            1906.0               544.091933     832.842163  Residential   \n",
       "66655            1900.0               694.135544     725.826460  Residential   \n",
       "65727            1960.0               712.225493     474.725479  Residential   \n",
       "\n",
       "             zone_id    unit_sqft  ave_lot_sqft  ave_unit_sqft  \\\n",
       "building_id                                                      \n",
       "66515          103.0  1585.000000      7.293847       7.153834   \n",
       "65547          103.0  3314.000000      7.293847       7.153834   \n",
       "66514          103.0  1650.000000      7.293847       7.153834   \n",
       "66655          103.0   941.500000      7.293847       7.153834   \n",
       "65727          103.0   739.666687      7.293847       7.153834   \n",
       "\n",
       "             sum_residential_units  ave_income  \n",
       "building_id                                     \n",
       "66515                      7.95156   11.156265  \n",
       "65547                      7.95156   11.156265  \n",
       "66514                      7.95156   11.156265  \n",
       "66655                      7.95156   11.156265  \n",
       "65727                      7.95156   11.156265  "
      ]
     },
     "execution_count": 21,
     "metadata": {},
     "output_type": "execute_result"
    }
   ],
   "source": [
    "merged_df.head()"
   ]
  },
  {
   "cell_type": "code",
   "execution_count": 22,
   "metadata": {
    "collapsed": false
   },
   "outputs": [
    {
     "data": {
      "text/html": [
       "<div>\n",
       "<style scoped>\n",
       "    .dataframe tbody tr th:only-of-type {\n",
       "        vertical-align: middle;\n",
       "    }\n",
       "\n",
       "    .dataframe tbody tr th {\n",
       "        vertical-align: top;\n",
       "    }\n",
       "\n",
       "    .dataframe thead th {\n",
       "        text-align: right;\n",
       "    }\n",
       "</style>\n",
       "<table border=\"1\" class=\"dataframe\">\n",
       "  <thead>\n",
       "    <tr style=\"text-align: right;\">\n",
       "      <th></th>\n",
       "      <th>year_built</th>\n",
       "      <th>residential_sales_price</th>\n",
       "      <th>unit_lot_size</th>\n",
       "      <th>zone_id</th>\n",
       "      <th>unit_sqft</th>\n",
       "      <th>ave_lot_sqft</th>\n",
       "      <th>ave_unit_sqft</th>\n",
       "      <th>sum_residential_units</th>\n",
       "      <th>ave_income</th>\n",
       "    </tr>\n",
       "  </thead>\n",
       "  <tbody>\n",
       "    <tr>\n",
       "      <th>count</th>\n",
       "      <td>149488.000000</td>\n",
       "      <td>138407.000000</td>\n",
       "      <td>1.526050e+05</td>\n",
       "      <td>152605.000000</td>\n",
       "      <td>1.526050e+05</td>\n",
       "      <td>152605.000000</td>\n",
       "      <td>152605.000000</td>\n",
       "      <td>152605.000000</td>\n",
       "      <td>152605.000000</td>\n",
       "    </tr>\n",
       "    <tr>\n",
       "      <th>mean</th>\n",
       "      <td>1932.578003</td>\n",
       "      <td>543.022467</td>\n",
       "      <td>4.678895e+03</td>\n",
       "      <td>120.381996</td>\n",
       "      <td>3.582393e+03</td>\n",
       "      <td>7.673279</td>\n",
       "      <td>7.172032</td>\n",
       "      <td>7.612719</td>\n",
       "      <td>11.077892</td>\n",
       "    </tr>\n",
       "    <tr>\n",
       "      <th>std</th>\n",
       "      <td>50.238934</td>\n",
       "      <td>171.802835</td>\n",
       "      <td>2.069895e+05</td>\n",
       "      <td>49.635498</td>\n",
       "      <td>3.256392e+04</td>\n",
       "      <td>0.460024</td>\n",
       "      <td>0.223331</td>\n",
       "      <td>0.445305</td>\n",
       "      <td>0.285365</td>\n",
       "    </tr>\n",
       "    <tr>\n",
       "      <th>min</th>\n",
       "      <td>1791.000000</td>\n",
       "      <td>14.502545</td>\n",
       "      <td>5.856160e-02</td>\n",
       "      <td>1.000000</td>\n",
       "      <td>4.184100e-03</td>\n",
       "      <td>5.843264</td>\n",
       "      <td>4.214594</td>\n",
       "      <td>1.098612</td>\n",
       "      <td>9.392745</td>\n",
       "    </tr>\n",
       "    <tr>\n",
       "      <th>25%</th>\n",
       "      <td>1911.000000</td>\n",
       "      <td>460.778445</td>\n",
       "      <td>1.472359e+03</td>\n",
       "      <td>81.000000</td>\n",
       "      <td>1.040000e+03</td>\n",
       "      <td>7.374665</td>\n",
       "      <td>7.058758</td>\n",
       "      <td>7.295735</td>\n",
       "      <td>11.034906</td>\n",
       "    </tr>\n",
       "    <tr>\n",
       "      <th>50%</th>\n",
       "      <td>1927.000000</td>\n",
       "      <td>528.836079</td>\n",
       "      <td>2.498522e+03</td>\n",
       "      <td>130.000000</td>\n",
       "      <td>1.350000e+03</td>\n",
       "      <td>7.823854</td>\n",
       "      <td>7.147559</td>\n",
       "      <td>7.736307</td>\n",
       "      <td>11.156265</td>\n",
       "    </tr>\n",
       "    <tr>\n",
       "      <th>75%</th>\n",
       "      <td>1947.000000</td>\n",
       "      <td>596.269347</td>\n",
       "      <td>3.001338e+03</td>\n",
       "      <td>167.000000</td>\n",
       "      <td>1.860000e+03</td>\n",
       "      <td>7.986542</td>\n",
       "      <td>7.259116</td>\n",
       "      <td>7.936303</td>\n",
       "      <td>11.225257</td>\n",
       "    </tr>\n",
       "    <tr>\n",
       "      <th>max</th>\n",
       "      <td>8687.000000</td>\n",
       "      <td>10138.582062</td>\n",
       "      <td>6.554497e+07</td>\n",
       "      <td>190.000000</td>\n",
       "      <td>4.701100e+06</td>\n",
       "      <td>12.454458</td>\n",
       "      <td>9.675912</td>\n",
       "      <td>8.502688</td>\n",
       "      <td>11.779136</td>\n",
       "    </tr>\n",
       "  </tbody>\n",
       "</table>\n",
       "</div>"
      ],
      "text/plain": [
       "          year_built  residential_sales_price  unit_lot_size        zone_id  \\\n",
       "count  149488.000000            138407.000000   1.526050e+05  152605.000000   \n",
       "mean     1932.578003               543.022467   4.678895e+03     120.381996   \n",
       "std        50.238934               171.802835   2.069895e+05      49.635498   \n",
       "min      1791.000000                14.502545   5.856160e-02       1.000000   \n",
       "25%      1911.000000               460.778445   1.472359e+03      81.000000   \n",
       "50%      1927.000000               528.836079   2.498522e+03     130.000000   \n",
       "75%      1947.000000               596.269347   3.001338e+03     167.000000   \n",
       "max      8687.000000             10138.582062   6.554497e+07     190.000000   \n",
       "\n",
       "          unit_sqft   ave_lot_sqft  ave_unit_sqft  sum_residential_units  \\\n",
       "count  1.526050e+05  152605.000000  152605.000000          152605.000000   \n",
       "mean   3.582393e+03       7.673279       7.172032               7.612719   \n",
       "std    3.256392e+04       0.460024       0.223331               0.445305   \n",
       "min    4.184100e-03       5.843264       4.214594               1.098612   \n",
       "25%    1.040000e+03       7.374665       7.058758               7.295735   \n",
       "50%    1.350000e+03       7.823854       7.147559               7.736307   \n",
       "75%    1.860000e+03       7.986542       7.259116               7.936303   \n",
       "max    4.701100e+06      12.454458       9.675912               8.502688   \n",
       "\n",
       "          ave_income  \n",
       "count  152605.000000  \n",
       "mean       11.077892  \n",
       "std         0.285365  \n",
       "min         9.392745  \n",
       "25%        11.034906  \n",
       "50%        11.156265  \n",
       "75%        11.225257  \n",
       "max        11.779136  "
      ]
     },
     "execution_count": 22,
     "metadata": {},
     "output_type": "execute_result"
    }
   ],
   "source": [
    "merged_df.describe()"
   ]
  },
  {
   "cell_type": "markdown",
   "metadata": {
    "deletable": true,
    "editable": true
   },
   "source": [
    "## Fill nans - UrbanSim wants you to take care of nans"
   ]
  },
  {
   "cell_type": "code",
   "execution_count": 27,
   "metadata": {
    "collapsed": false,
    "deletable": true,
    "editable": true
   },
   "outputs": [],
   "source": [
    "import utils\n",
    "merged_df[\"year_built\"] = merged_df.year_built.fillna(merged_df.year_built.quantile())\n",
    "merged_df[\"residential_sales_price\"] = merged_df.residential_sales_price.fillna(0)\n",
    "merged_df[\"general_type\"] = merged_df.general_type.fillna(merged_df.general_type.value_counts().idxmax())\n",
    "_ = utils.deal_with_nas(merged_df)"
   ]
  },
  {
   "cell_type": "markdown",
   "metadata": {
    "deletable": true,
    "editable": true
   },
   "source": [
    "## Fit and report"
   ]
  },
  {
   "cell_type": "code",
   "execution_count": 29,
   "metadata": {
    "collapsed": false,
    "deletable": true,
    "editable": true
   },
   "outputs": [
    {
     "data": {
      "text/html": [
       "<table class=\"simpletable\">\n",
       "<caption>OLS Regression Results</caption>\n",
       "<tr>\n",
       "  <th>Dep. Variable:</th>    <td>np.log1p(residential_sales_price)</td> <th>  R-squared:         </th>  <td>   0.399</td>  \n",
       "</tr>\n",
       "<tr>\n",
       "  <th>Model:</th>                           <td>OLS</td>                <th>  Adj. R-squared:    </th>  <td>   0.399</td>  \n",
       "</tr>\n",
       "<tr>\n",
       "  <th>Method:</th>                     <td>Least Squares</td>           <th>  F-statistic:       </th>  <td>1.240e+04</td> \n",
       "</tr>\n",
       "<tr>\n",
       "  <th>Date:</th>                     <td>Mon, 07 Jan 2019</td>          <th>  Prob (F-statistic):</th>   <td>  0.00</td>   \n",
       "</tr>\n",
       "<tr>\n",
       "  <th>Time:</th>                         <td>10:04:17</td>              <th>  Log-Likelihood:    </th> <td>-2.5244e+05</td>\n",
       "</tr>\n",
       "<tr>\n",
       "  <th>No. Observations:</th>              <td>149409</td>               <th>  AIC:               </th>  <td>5.049e+05</td> \n",
       "</tr>\n",
       "<tr>\n",
       "  <th>Df Residuals:</th>                  <td>149400</td>               <th>  BIC:               </th>  <td>5.050e+05</td> \n",
       "</tr>\n",
       "<tr>\n",
       "  <th>Df Model:</th>                      <td>     8</td>               <th>                     </th>      <td> </td>     \n",
       "</tr>\n",
       "<tr>\n",
       "  <th>Covariance Type:</th>              <td>nonrobust</td>             <th>                     </th>      <td> </td>     \n",
       "</tr>\n",
       "</table>\n",
       "<table class=\"simpletable\">\n",
       "<tr>\n",
       "                <td></td>                  <th>coef</th>     <th>std err</th>      <th>t</th>      <th>P>|t|</th>  <th>[0.025</th>    <th>0.975]</th>  \n",
       "</tr>\n",
       "<tr>\n",
       "  <th>Intercept</th>                    <td>   -3.8664</td> <td>    0.170</td> <td>  -22.761</td> <td> 0.000</td> <td>   -4.199</td> <td>   -3.533</td>\n",
       "</tr>\n",
       "<tr>\n",
       "  <th>I(year_built < 1940)[T.True]</th> <td>    0.0011</td> <td>    0.007</td> <td>    0.144</td> <td> 0.885</td> <td>   -0.013</td> <td>    0.016</td>\n",
       "</tr>\n",
       "<tr>\n",
       "  <th>I(year_built > 2005)[T.True]</th> <td>   -0.0632</td> <td>    0.049</td> <td>   -1.298</td> <td> 0.194</td> <td>   -0.159</td> <td>    0.032</td>\n",
       "</tr>\n",
       "<tr>\n",
       "  <th>np.log1p(unit_sqft)</th>          <td>   -1.4830</td> <td>    0.007</td> <td> -210.907</td> <td> 0.000</td> <td>   -1.497</td> <td>   -1.469</td>\n",
       "</tr>\n",
       "<tr>\n",
       "  <th>np.log1p(unit_lot_size)</th>      <td>   -0.1476</td> <td>    0.006</td> <td>  -23.219</td> <td> 0.000</td> <td>   -0.160</td> <td>   -0.135</td>\n",
       "</tr>\n",
       "<tr>\n",
       "  <th>sum_residential_units</th>        <td>    0.0986</td> <td>    0.008</td> <td>   11.972</td> <td> 0.000</td> <td>    0.082</td> <td>    0.115</td>\n",
       "</tr>\n",
       "<tr>\n",
       "  <th>ave_lot_sqft</th>                 <td>   -0.2179</td> <td>    0.010</td> <td>  -21.293</td> <td> 0.000</td> <td>   -0.238</td> <td>   -0.198</td>\n",
       "</tr>\n",
       "<tr>\n",
       "  <th>ave_unit_sqft</th>                <td>    0.9376</td> <td>    0.020</td> <td>   45.828</td> <td> 0.000</td> <td>    0.898</td> <td>    0.978</td>\n",
       "</tr>\n",
       "<tr>\n",
       "  <th>ave_income</th>                   <td>    1.4192</td> <td>    0.015</td> <td>   92.812</td> <td> 0.000</td> <td>    1.389</td> <td>    1.449</td>\n",
       "</tr>\n",
       "</table>\n",
       "<table class=\"simpletable\">\n",
       "<tr>\n",
       "  <th>Omnibus:</th>       <td>89673.667</td> <th>  Durbin-Watson:     </th>  <td>   1.798</td> \n",
       "</tr>\n",
       "<tr>\n",
       "  <th>Prob(Omnibus):</th>  <td> 0.000</td>   <th>  Jarque-Bera (JB):  </th> <td>819859.558</td>\n",
       "</tr>\n",
       "<tr>\n",
       "  <th>Skew:</th>           <td>-2.841</td>   <th>  Prob(JB):          </th>  <td>    0.00</td> \n",
       "</tr>\n",
       "<tr>\n",
       "  <th>Kurtosis:</th>       <td>12.970</td>   <th>  Cond. No.          </th>  <td>1.01e+03</td> \n",
       "</tr>\n",
       "</table><br/><br/>Warnings:<br/>[1] Standard Errors assume that the covariance matrix of the errors is correctly specified.<br/>[2] The condition number is large, 1.01e+03. This might indicate that there are<br/>strong multicollinearity or other numerical problems."
      ],
      "text/plain": [
       "<class 'statsmodels.iolib.summary.Summary'>\n",
       "\"\"\"\n",
       "                                    OLS Regression Results                                   \n",
       "=============================================================================================\n",
       "Dep. Variable:     np.log1p(residential_sales_price)   R-squared:                       0.399\n",
       "Model:                                           OLS   Adj. R-squared:                  0.399\n",
       "Method:                                Least Squares   F-statistic:                 1.240e+04\n",
       "Date:                               Mon, 07 Jan 2019   Prob (F-statistic):               0.00\n",
       "Time:                                       10:04:17   Log-Likelihood:            -2.5244e+05\n",
       "No. Observations:                             149409   AIC:                         5.049e+05\n",
       "Df Residuals:                                 149400   BIC:                         5.050e+05\n",
       "Df Model:                                          8                                         \n",
       "Covariance Type:                           nonrobust                                         \n",
       "================================================================================================\n",
       "                                   coef    std err          t      P>|t|      [0.025      0.975]\n",
       "------------------------------------------------------------------------------------------------\n",
       "Intercept                       -3.8664      0.170    -22.761      0.000      -4.199      -3.533\n",
       "I(year_built < 1940)[T.True]     0.0011      0.007      0.144      0.885      -0.013       0.016\n",
       "I(year_built > 2005)[T.True]    -0.0632      0.049     -1.298      0.194      -0.159       0.032\n",
       "np.log1p(unit_sqft)             -1.4830      0.007   -210.907      0.000      -1.497      -1.469\n",
       "np.log1p(unit_lot_size)         -0.1476      0.006    -23.219      0.000      -0.160      -0.135\n",
       "sum_residential_units            0.0986      0.008     11.972      0.000       0.082       0.115\n",
       "ave_lot_sqft                    -0.2179      0.010    -21.293      0.000      -0.238      -0.198\n",
       "ave_unit_sqft                    0.9376      0.020     45.828      0.000       0.898       0.978\n",
       "ave_income                       1.4192      0.015     92.812      0.000       1.389       1.449\n",
       "==============================================================================\n",
       "Omnibus:                    89673.667   Durbin-Watson:                   1.798\n",
       "Prob(Omnibus):                  0.000   Jarque-Bera (JB):           819859.558\n",
       "Skew:                          -2.841   Prob(JB):                         0.00\n",
       "Kurtosis:                      12.970   Cond. No.                     1.01e+03\n",
       "==============================================================================\n",
       "\n",
       "Warnings:\n",
       "[1] Standard Errors assume that the covariance matrix of the errors is correctly specified.\n",
       "[2] The condition number is large, 1.01e+03. This might indicate that there are\n",
       "strong multicollinearity or other numerical problems.\n",
       "\"\"\""
      ]
     },
     "execution_count": 29,
     "metadata": {},
     "output_type": "execute_result"
    }
   ],
   "source": [
    "rm.fit(merged_df).summary()"
   ]
  },
  {
   "cell_type": "markdown",
   "metadata": {
    "deletable": true,
    "editable": true
   },
   "source": [
    "## Predict and report"
   ]
  },
  {
   "cell_type": "code",
   "execution_count": 30,
   "metadata": {
    "collapsed": false,
    "deletable": true,
    "editable": true
   },
   "outputs": [
    {
     "data": {
      "text/plain": [
       "count    1.407820e+05\n",
       "mean     1.157916e+03\n",
       "std      4.153603e+04\n",
       "min      1.361599e-03\n",
       "25%      2.529656e+02\n",
       "50%      3.803416e+02\n",
       "75%      5.547495e+02\n",
       "max      1.251726e+07\n",
       "dtype: float64"
      ]
     },
     "execution_count": 30,
     "metadata": {},
     "output_type": "execute_result"
    }
   ],
   "source": [
    "rm.predict(merged_df).describe()"
   ]
  },
  {
   "cell_type": "code",
   "execution_count": 31,
   "metadata": {
    "collapsed": false,
    "deletable": true,
    "editable": true
   },
   "outputs": [
    {
     "data": {
      "text/plain": [
       "building_id\n",
       "66515       360.450275\n",
       "65547        96.331840\n",
       "66514       361.120867\n",
       "66655       846.276923\n",
       "65727      1286.549276\n",
       "66505       651.477698\n",
       "66456      1443.009788\n",
       "65535      1037.913054\n",
       "66522       289.315590\n",
       "65732      1338.533686\n",
       "66357      2049.828057\n",
       "65163      2478.963790\n",
       "66593      1674.377331\n",
       "66618      1563.286354\n",
       "65945      2113.306241\n",
       "65041      1029.652607\n",
       "66299      2052.795187\n",
       "66650       638.677935\n",
       "65421       163.866953\n",
       "66653       393.321059\n",
       "66809       676.124509\n",
       "65531      1627.889249\n",
       "64896       286.476864\n",
       "65534      2327.335977\n",
       "66584       703.725446\n",
       "65207       383.587160\n",
       "64976       939.723052\n",
       "63542       757.732830\n",
       "65474       377.552921\n",
       "63019        67.700260\n",
       "              ...     \n",
       "116864      919.380365\n",
       "119278      644.489446\n",
       "119279      644.473536\n",
       "117917      606.084489\n",
       "118487      365.706460\n",
       "117918      644.672369\n",
       "119284     2360.506241\n",
       "119283     2415.185478\n",
       "118202      479.091462\n",
       "118486      163.496328\n",
       "118539      606.147686\n",
       "117234      644.589575\n",
       "137423    10518.283712\n",
       "140719       79.495085\n",
       "137909       57.672819\n",
       "137482      441.445995\n",
       "137823      892.497450\n",
       "136770       96.254105\n",
       "139617    18606.286370\n",
       "140324      152.075550\n",
       "137824     3696.954069\n",
       "140848        0.759211\n",
       "138842        0.281470\n",
       "138846       12.147968\n",
       "138845        5.659348\n",
       "140849      130.298559\n",
       "138844      163.444101\n",
       "140850      401.339982\n",
       "138820       79.865642\n",
       "138821      227.982321\n",
       "Length: 140782, dtype: float64"
      ]
     },
     "execution_count": 31,
     "metadata": {},
     "output_type": "execute_result"
    }
   ],
   "source": [
    "rm.predict(merged_df)"
   ]
  },
  {
   "cell_type": "markdown",
   "metadata": {},
   "source": [
    "--------------------"
   ]
  },
  {
   "cell_type": "markdown",
   "metadata": {},
   "source": [
    "# 참고자료 \n",
    "* [1] New version of UrbanSim, a platform for modeling metropolitan real estate markets - https://github.com/UDST/urbansim\n",
    "* [2] UrbanSim - Modeling Urban Development for Land Use, Transportation, and Environmen tal Planning - https://astro.temple.edu/~jmennis/Courses/GUS_0150/readings/Waddell02.pdf\n",
    "* [3] Architecture for Modular Microsimulation of Real Estate Markets and Transportation - https://arxiv.org/abs/1807.01148\n",
    "* [4] An UrbanSim for San Francisco: an example implementation of the new framework - https://github.com/UDST/sanfran_urbansim\n",
    "* [5] An Open Platform for Activity-Based Travel Modeling - https://github.com/ActivitySim/activitysim"
   ]
  }
 ],
 "metadata": {
  "kernelspec": {
   "display_name": "Python 3",
   "language": "python",
   "name": "python3"
  },
  "language_info": {
   "codemirror_mode": {
    "name": "ipython",
    "version": 3
   },
   "file_extension": ".py",
   "mimetype": "text/x-python",
   "name": "python",
   "nbconvert_exporter": "python",
   "pygments_lexer": "ipython3",
   "version": "3.5.2"
  }
 },
 "nbformat": 4,
 "nbformat_minor": 0
}
